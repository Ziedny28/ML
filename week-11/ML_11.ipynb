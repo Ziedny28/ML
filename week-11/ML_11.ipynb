{
  "cells": [
    {
      "cell_type": "markdown",
      "metadata": {
        "id": "hQKe5eooGkvM"
      },
      "source": [
        "# Praktikum 1"
      ]
    },
    {
      "cell_type": "markdown",
      "metadata": {
        "id": "pRlFhvF9G0Fm"
      },
      "source": [
        "## Langkah 1 - Import Library"
      ]
    },
    {
      "cell_type": "code",
      "execution_count": 6,
      "metadata": {
        "id": "MXfl0EzUB4Ml"
      },
      "outputs": [],
      "source": [
        "import tensorflow as tf\n",
        "from keras.preprocessing.image import ImageDataGenerator"
      ]
    },
    {
      "cell_type": "markdown",
      "metadata": {
        "id": "Ohsgd6MCG2zw"
      },
      "source": [
        "## Langkah 2 - Pra Pengolahan Data"
      ]
    },
    {
      "cell_type": "code",
      "execution_count": 7,
      "metadata": {
        "colab": {
          "base_uri": "https://localhost:8080/",
          "height": 407
        },
        "id": "wkION7PgB6a6",
        "outputId": "ec4efd06-320a-4b0e-bdb4-df399efd583c"
      },
      "outputs": [
        {
          "name": "stdout",
          "output_type": "stream",
          "text": [
            "Found 8000 images belonging to 2 classes.\n"
          ]
        }
      ],
      "source": [
        "train_datagen = ImageDataGenerator(rescale = 1./255,\n",
        "                                   shear_range = 0.2,\n",
        "                                   zoom_range = 0.2,\n",
        "                                   horizontal_flip = True)\n",
        "training_set = train_datagen.flow_from_directory('dataset/training_set',\n",
        "                                                 target_size = (64, 64),\n",
        "                                                 batch_size = 32,\n",
        "                                                 class_mode = 'binary')"
      ]
    },
    {
      "cell_type": "code",
      "execution_count": 8,
      "metadata": {
        "colab": {
          "base_uri": "https://localhost:8080/",
          "height": 407
        },
        "id": "RbTG8Zw0CYzD",
        "outputId": "c6cb62f9-8ad5-4b24-f8d0-402775c6869e"
      },
      "outputs": [
        {
          "name": "stdout",
          "output_type": "stream",
          "text": [
            "Found 2000 images belonging to 2 classes.\n"
          ]
        }
      ],
      "source": [
        "test_datagen = ImageDataGenerator(rescale = 1./255)\n",
        "test_set = test_datagen.flow_from_directory('dataset/test_set',\n",
        "                                            target_size = (64, 64),\n",
        "                                            batch_size = 32,\n",
        "                                            class_mode = 'binary')"
      ]
    },
    {
      "cell_type": "markdown",
      "metadata": {
        "id": "ozthS33hG8qM"
      },
      "source": [
        "## Langkah 3 - Pembuatan Model CNN"
      ]
    },
    {
      "cell_type": "code",
      "execution_count": 9,
      "metadata": {
        "id": "xGNO_3TnG5I5"
      },
      "outputs": [],
      "source": [
        "cnn = tf.keras.models.Sequential()"
      ]
    },
    {
      "cell_type": "code",
      "execution_count": 10,
      "metadata": {
        "id": "mL4lNyuzG-O1"
      },
      "outputs": [],
      "source": [
        "cnn.add(tf.keras.layers.Conv2D(filters=32, kernel_size=3, activation='relu', input_shape=[64, 64, 3]))"
      ]
    },
    {
      "cell_type": "code",
      "execution_count": 11,
      "metadata": {
        "id": "G-MxpDLqHDtH"
      },
      "outputs": [],
      "source": [
        "cnn.add(tf.keras.layers.MaxPool2D(pool_size=2, strides=2))"
      ]
    },
    {
      "cell_type": "code",
      "execution_count": 12,
      "metadata": {
        "id": "TcqEb5j2HJxM"
      },
      "outputs": [],
      "source": [
        "cnn.add(tf.keras.layers.Conv2D(filters=32, kernel_size=3, activation='relu'))\n",
        "cnn.add(tf.keras.layers.MaxPool2D(pool_size=2, strides=2))"
      ]
    },
    {
      "cell_type": "code",
      "execution_count": 13,
      "metadata": {
        "id": "IEKLHlIgHLS6"
      },
      "outputs": [],
      "source": [
        "cnn.add(tf.keras.layers.Flatten())"
      ]
    },
    {
      "cell_type": "code",
      "execution_count": 14,
      "metadata": {
        "id": "Ffe5TXCaHOrF"
      },
      "outputs": [],
      "source": [
        "cnn.add(tf.keras.layers.Dense(units=128, activation='relu'))"
      ]
    },
    {
      "cell_type": "code",
      "execution_count": 15,
      "metadata": {
        "id": "3EyLCPc1HQaq"
      },
      "outputs": [],
      "source": [
        "cnn.add(tf.keras.layers.Dense(units=1, activation='sigmoid'))"
      ]
    },
    {
      "cell_type": "code",
      "execution_count": 16,
      "metadata": {
        "id": "UVhezJDCHSF0"
      },
      "outputs": [],
      "source": [
        "cnn.compile(optimizer = 'adam', loss = 'binary_crossentropy', metrics = ['accuracy'])"
      ]
    },
    {
      "cell_type": "markdown",
      "metadata": {
        "id": "lhD9x_m7HOYu"
      },
      "source": [
        "## Langkah 4 - Fit CNN"
      ]
    },
    {
      "cell_type": "code",
      "execution_count": 17,
      "metadata": {
        "id": "DFH_T8qYHUXN"
      },
      "outputs": [
        {
          "name": "stdout",
          "output_type": "stream",
          "text": [
            "Epoch 1/25\n",
            "250/250 [==============================] - 72s 282ms/step - loss: 0.6828 - accuracy: 0.5586 - val_loss: 0.6382 - val_accuracy: 0.6705\n",
            "Epoch 2/25\n",
            "250/250 [==============================] - 39s 155ms/step - loss: 0.6165 - accuracy: 0.6580 - val_loss: 0.5741 - val_accuracy: 0.7095\n",
            "Epoch 3/25\n",
            "250/250 [==============================] - 37s 150ms/step - loss: 0.5623 - accuracy: 0.7096 - val_loss: 0.5143 - val_accuracy: 0.7520\n",
            "Epoch 4/25\n",
            "250/250 [==============================] - 41s 165ms/step - loss: 0.5252 - accuracy: 0.7346 - val_loss: 0.5440 - val_accuracy: 0.7395\n",
            "Epoch 5/25\n",
            "250/250 [==============================] - 41s 166ms/step - loss: 0.4974 - accuracy: 0.7566 - val_loss: 0.5072 - val_accuracy: 0.7515\n",
            "Epoch 6/25\n",
            "250/250 [==============================] - 56s 223ms/step - loss: 0.4815 - accuracy: 0.7663 - val_loss: 0.4934 - val_accuracy: 0.7620\n",
            "Epoch 7/25\n",
            "250/250 [==============================] - 91s 363ms/step - loss: 0.4659 - accuracy: 0.7765 - val_loss: 0.4762 - val_accuracy: 0.7765\n",
            "Epoch 8/25\n",
            "250/250 [==============================] - 54s 217ms/step - loss: 0.4558 - accuracy: 0.7820 - val_loss: 0.4657 - val_accuracy: 0.7800\n",
            "Epoch 9/25\n",
            "250/250 [==============================] - 42s 168ms/step - loss: 0.4339 - accuracy: 0.7968 - val_loss: 0.4464 - val_accuracy: 0.7990\n",
            "Epoch 10/25\n",
            "250/250 [==============================] - 40s 159ms/step - loss: 0.4309 - accuracy: 0.7981 - val_loss: 0.4350 - val_accuracy: 0.8040\n",
            "Epoch 11/25\n",
            "250/250 [==============================] - 40s 159ms/step - loss: 0.4127 - accuracy: 0.8081 - val_loss: 0.4596 - val_accuracy: 0.7910\n",
            "Epoch 12/25\n",
            "250/250 [==============================] - 41s 164ms/step - loss: 0.4037 - accuracy: 0.8133 - val_loss: 0.4293 - val_accuracy: 0.8095\n",
            "Epoch 13/25\n",
            "250/250 [==============================] - 41s 163ms/step - loss: 0.3987 - accuracy: 0.8160 - val_loss: 0.4605 - val_accuracy: 0.7975\n",
            "Epoch 14/25\n",
            "250/250 [==============================] - 42s 166ms/step - loss: 0.3834 - accuracy: 0.8301 - val_loss: 0.4527 - val_accuracy: 0.8015\n",
            "Epoch 15/25\n",
            "250/250 [==============================] - 41s 165ms/step - loss: 0.3752 - accuracy: 0.8300 - val_loss: 0.4483 - val_accuracy: 0.8080\n",
            "Epoch 16/25\n",
            "250/250 [==============================] - 39s 154ms/step - loss: 0.3652 - accuracy: 0.8363 - val_loss: 0.4293 - val_accuracy: 0.8150\n",
            "Epoch 17/25\n",
            "250/250 [==============================] - 38s 152ms/step - loss: 0.3545 - accuracy: 0.8418 - val_loss: 0.4952 - val_accuracy: 0.8035\n",
            "Epoch 18/25\n",
            "250/250 [==============================] - 38s 151ms/step - loss: 0.3468 - accuracy: 0.8474 - val_loss: 0.4306 - val_accuracy: 0.8105\n",
            "Epoch 19/25\n",
            "250/250 [==============================] - 39s 156ms/step - loss: 0.3335 - accuracy: 0.8544 - val_loss: 0.4676 - val_accuracy: 0.8040\n",
            "Epoch 20/25\n",
            "250/250 [==============================] - 38s 150ms/step - loss: 0.3206 - accuracy: 0.8605 - val_loss: 0.4634 - val_accuracy: 0.8050\n",
            "Epoch 21/25\n",
            "250/250 [==============================] - 38s 152ms/step - loss: 0.3147 - accuracy: 0.8649 - val_loss: 0.4769 - val_accuracy: 0.8000\n",
            "Epoch 22/25\n",
            "250/250 [==============================] - 38s 151ms/step - loss: 0.3021 - accuracy: 0.8687 - val_loss: 0.4637 - val_accuracy: 0.8050\n",
            "Epoch 23/25\n",
            "250/250 [==============================] - 40s 159ms/step - loss: 0.2941 - accuracy: 0.8724 - val_loss: 0.5220 - val_accuracy: 0.7950\n",
            "Epoch 24/25\n",
            "250/250 [==============================] - 44s 176ms/step - loss: 0.2767 - accuracy: 0.8794 - val_loss: 0.4975 - val_accuracy: 0.8185\n",
            "Epoch 25/25\n",
            "250/250 [==============================] - 41s 164ms/step - loss: 0.2751 - accuracy: 0.8801 - val_loss: 0.4782 - val_accuracy: 0.8100\n"
          ]
        },
        {
          "data": {
            "text/plain": [
              "<keras.src.callbacks.History at 0x1b4b9166510>"
            ]
          },
          "execution_count": 17,
          "metadata": {},
          "output_type": "execute_result"
        }
      ],
      "source": [
        "cnn.fit(x = training_set, validation_data = test_set, epochs = 25)"
      ]
    },
    {
      "cell_type": "markdown",
      "metadata": {
        "id": "tftEPb30HXFj"
      },
      "source": [
        "## Langkah 5 - Prediksi dengan 1 Citra"
      ]
    },
    {
      "cell_type": "code",
      "execution_count": 18,
      "metadata": {
        "id": "TSSkeVvVHXpv"
      },
      "outputs": [
        {
          "name": "stdout",
          "output_type": "stream",
          "text": [
            "1/1 [==============================] - 0s 282ms/step\n"
          ]
        }
      ],
      "source": [
        "import numpy as np\n",
        "from keras.preprocessing import image\n",
        "test_image = image.load_img('dataset/single_prediction/cat_or_dog_1.jpg', target_size = (64, 64))\n",
        "test_image = image.img_to_array(test_image)\n",
        "test_image = np.expand_dims(test_image, axis = 0)\n",
        "result = cnn.predict(test_image)\n",
        "training_set.class_indices\n",
        "if result[0][0] == 1:\n",
        "  prediction = 'dog'\n",
        "else:\n",
        "  prediction = 'cat'"
      ]
    },
    {
      "cell_type": "code",
      "execution_count": null,
      "metadata": {},
      "outputs": [],
      "source": []
    },
    {
      "cell_type": "code",
      "execution_count": null,
      "metadata": {},
      "outputs": [],
      "source": []
    }
  ],
  "metadata": {
    "colab": {
      "provenance": []
    },
    "kernelspec": {
      "display_name": "Python 3",
      "name": "python3"
    },
    "language_info": {
      "codemirror_mode": {
        "name": "ipython",
        "version": 3
      },
      "file_extension": ".py",
      "mimetype": "text/x-python",
      "name": "python",
      "nbconvert_exporter": "python",
      "pygments_lexer": "ipython3",
      "version": "3.11.4"
    }
  },
  "nbformat": 4,
  "nbformat_minor": 0
}
