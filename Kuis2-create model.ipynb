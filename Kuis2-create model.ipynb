{
  "nbformat": 4,
  "nbformat_minor": 0,
  "metadata": {
    "colab": {
      "provenance": [],
      "gpuType": "T4",
      "authorship_tag": "ABX9TyM25i0YtqL/0GlS+6Qdz9Gv",
      "include_colab_link": true
    },
    "kernelspec": {
      "name": "python3",
      "display_name": "Python 3"
    },
    "language_info": {
      "name": "python"
    },
    "accelerator": "GPU"
  },
  "cells": [
    {
      "cell_type": "markdown",
      "metadata": {
        "id": "view-in-github",
        "colab_type": "text"
      },
      "source": [
        "<a href=\"https://colab.research.google.com/github/Ziedny28/ML/blob/master/Kuis2-create%20model.ipynb\" target=\"_parent\"><img src=\"https://colab.research.google.com/assets/colab-badge.svg\" alt=\"Open In Colab\"/></a>"
      ]
    },
    {
      "cell_type": "code",
      "execution_count": 1,
      "metadata": {
        "id": "RARm1Sl6DDd6"
      },
      "outputs": [],
      "source": [
        "import tensorflow as tf\n",
        "import numpy as np\n",
        "import pandas as pd\n",
        "import matplotlib.pyplot as plt\n",
        "import seaborn as sns\n",
        "from sklearn.preprocessing import LabelBinarizer\n",
        "from sklearn.model_selection import train_test_split\n",
        "from sklearn.metrics import classification_report"
      ]
    },
    {
      "cell_type": "code",
      "source": [
        "from google.colab import drive\n",
        "drive.mount('/content/drive')"
      ],
      "metadata": {
        "colab": {
          "base_uri": "https://localhost:8080/"
        },
        "id": "VdB8KGqAD-g6",
        "outputId": "8c0a61b8-a57a-464e-9584-b9889d01d9bf"
      },
      "execution_count": 2,
      "outputs": [
        {
          "output_type": "stream",
          "name": "stdout",
          "text": [
            "Mounted at /content/drive\n"
          ]
        }
      ]
    },
    {
      "cell_type": "code",
      "source": [
        "import os\n",
        "os.chdir('/content/drive/My Drive/ML-Resources/testing_data')"
      ],
      "metadata": {
        "id": "OlfLpaFaD_Ey"
      },
      "execution_count": 3,
      "outputs": []
    },
    {
      "cell_type": "code",
      "source": [
        "import cv2\n",
        "import numpy as np\n",
        "from tqdm import tqdm\n",
        "import os\n",
        "\n",
        "# Define your desired image width and height\n",
        "your_image_width = 64\n",
        "your_image_height = 64\n",
        "\n",
        "data = []\n",
        "labels = []\n",
        "\n",
        "# Assuming the code is in the directory where the images are located\n",
        "current_directory = '/content/drive/My Drive/ML-Resources/testing_data'\n",
        "\n",
        "for folder_name in os.listdir(current_directory):\n",
        "    folder_path = os.path.join(current_directory, folder_name)\n",
        "\n",
        "    for img_name in tqdm(os.listdir(folder_path)):\n",
        "        img_path = os.path.join(folder_path, img_name)\n",
        "        img = cv2.imread(img_path)\n",
        "        img = cv2.resize(img, (your_image_width, your_image_height))\n",
        "        data.append(img)\n",
        "        labels.append(folder_name)\n",
        "\n",
        "data = np.array(data)\n",
        "labels = np.array(labels)\n"
      ],
      "metadata": {
        "colab": {
          "base_uri": "https://localhost:8080/"
        },
        "id": "e6Y1VmHkEjMg",
        "outputId": "328882e6-c853-4bc2-e68f-2954a1af8c59"
      },
      "execution_count": 4,
      "outputs": [
        {
          "output_type": "stream",
          "name": "stderr",
          "text": [
            "100%|██████████| 28/28 [00:10<00:00,  2.80it/s]\n",
            "100%|██████████| 28/28 [00:10<00:00,  2.59it/s]\n",
            "100%|██████████| 34/34 [00:11<00:00,  3.08it/s]\n",
            "100%|██████████| 28/28 [00:09<00:00,  3.02it/s]\n",
            "100%|██████████| 28/28 [00:14<00:00,  1.88it/s]\n",
            "100%|██████████| 28/28 [00:10<00:00,  2.73it/s]\n",
            "100%|██████████| 28/28 [00:09<00:00,  2.87it/s]\n",
            "100%|██████████| 28/28 [00:09<00:00,  2.86it/s]\n",
            "100%|██████████| 28/28 [00:09<00:00,  2.92it/s]\n",
            "100%|██████████| 28/28 [00:09<00:00,  3.09it/s]\n",
            "100%|██████████| 28/28 [00:09<00:00,  3.05it/s]\n",
            "100%|██████████| 28/28 [00:08<00:00,  3.16it/s]\n",
            "100%|██████████| 28/28 [00:09<00:00,  3.08it/s]\n",
            "100%|██████████| 28/28 [00:09<00:00,  2.94it/s]\n",
            "100%|██████████| 28/28 [00:08<00:00,  3.16it/s]\n",
            "100%|██████████| 28/28 [00:08<00:00,  3.15it/s]\n",
            "100%|██████████| 28/28 [00:08<00:00,  3.24it/s]\n",
            "100%|██████████| 28/28 [00:08<00:00,  3.45it/s]\n",
            "100%|██████████| 28/28 [00:08<00:00,  3.48it/s]\n",
            "100%|██████████| 28/28 [00:08<00:00,  3.28it/s]\n",
            "100%|██████████| 28/28 [00:09<00:00,  3.03it/s]\n",
            "100%|██████████| 28/28 [00:08<00:00,  3.21it/s]\n",
            "100%|██████████| 28/28 [00:09<00:00,  3.01it/s]\n",
            "100%|██████████| 28/28 [00:09<00:00,  3.10it/s]\n",
            "100%|██████████| 28/28 [00:08<00:00,  3.26it/s]\n",
            "100%|██████████| 28/28 [00:08<00:00,  3.14it/s]\n",
            "100%|██████████| 28/28 [00:09<00:00,  3.06it/s]\n",
            "100%|██████████| 28/28 [00:09<00:00,  2.96it/s]\n",
            "100%|██████████| 28/28 [00:08<00:00,  3.18it/s]\n",
            "100%|██████████| 28/28 [00:09<00:00,  3.10it/s]\n",
            "100%|██████████| 28/28 [00:08<00:00,  3.28it/s]\n",
            "100%|██████████| 28/28 [00:07<00:00,  3.57it/s]\n",
            "100%|██████████| 28/28 [00:08<00:00,  3.11it/s]\n",
            "100%|██████████| 28/28 [00:08<00:00,  3.23it/s]\n",
            "100%|██████████| 28/28 [00:08<00:00,  3.22it/s]\n",
            "100%|██████████| 28/28 [00:08<00:00,  3.38it/s]\n"
          ]
        }
      ]
    },
    {
      "cell_type": "code",
      "source": [
        "plt.imshow(data[0])"
      ],
      "metadata": {
        "colab": {
          "base_uri": "https://localhost:8080/",
          "height": 449
        },
        "id": "kOLXweKGE-ix",
        "outputId": "3e9687af-2a94-44ec-a51c-e5abf7db8e96"
      },
      "execution_count": 5,
      "outputs": [
        {
          "output_type": "execute_result",
          "data": {
            "text/plain": [
              "<matplotlib.image.AxesImage at 0x7d271e51c9a0>"
            ]
          },
          "metadata": {},
          "execution_count": 5
        },
        {
          "output_type": "display_data",
          "data": {
            "text/plain": [
              "<Figure size 640x480 with 1 Axes>"
            ],
            "image/png": "[encoded data removed]"
          },
          "metadata": {}
        }
      ]
    },
    {
      "cell_type": "code",
      "source": [
        "labels[0]"
      ],
      "metadata": {
        "colab": {
          "base_uri": "https://localhost:8080/",
          "height": 36
        },
        "id": "SRtAKxbeGcrG",
        "outputId": "ddcdb390-71c9-4c34-9d8d-deb4cdd96d9a"
      },
      "execution_count": 6,
      "outputs": [
        {
          "output_type": "execute_result",
          "data": {
            "text/plain": [
              "'6'"
            ],
            "application/vnd.google.colaboratory.intrinsic+json": {
              "type": "string"
            }
          },
          "metadata": {},
          "execution_count": 6
        }
      ]
    },
    {
      "cell_type": "code",
      "source": [
        "# import tensorflow as tf\n",
        "# from sklearn.model_selection import train_test_split\n",
        "# from tensorflow.keras.models import Sequential\n",
        "# from tensorflow.keras.layers import Conv2D, MaxPooling2D, Flatten, Dense, Dropout\n",
        "# from tensorflow.keras.preprocessing.image import ImageDataGenerator\n",
        "\n",
        "# # Preprocess data\n",
        "# data = data.astype('float32') / 255.0  # Normalize pixel values to be between 0 and 1\n",
        "# data = data.reshape((data.shape[0], your_image_width, your_image_height, 3))  # Reshape data to match input shape\n",
        "\n",
        "# # Split the data into training and testing sets\n",
        "# X_train, X_test, y_train, y_test = train_test_split(data, labels, test_size=0.2, random_state=42)\n",
        "\n",
        "# # Data Augmentation\n",
        "# datagen = ImageDataGenerator(\n",
        "#     rotation_range=20,\n",
        "#     width_shift_range=0.2,\n",
        "#     height_shift_range=0.2,\n",
        "#     shear_range=0.2,\n",
        "#     zoom_range=0.2,\n",
        "#     horizontal_flip=True,\n",
        "#     fill_mode='nearest'\n",
        "# )\n",
        "\n",
        "# datagen.fit(X_train)  # Fit the data augmentation pipeline to the training data\n",
        "\n",
        "# # Build CNN Model\n",
        "# model = Sequential()\n",
        "\n",
        "# model.add(Conv2D(32, (3, 3), activation='relu', input_shape=(your_image_width, your_image_height, 3)))\n",
        "# model.add(MaxPooling2D(2, 2))\n",
        "\n",
        "# model.add(Conv2D(64, (3, 3), activation='relu'))\n",
        "# model.add(MaxPooling2D(2, 2))\n",
        "\n",
        "# model.add(Conv2D(128, (3, 3), activation='relu'))\n",
        "# model.add(MaxPooling2D(2, 2))\n",
        "\n",
        "# model.add(Flatten())\n",
        "# model.add(Dense(256, activation='relu'))\n",
        "# model.add(Dropout(0.5))\n",
        "# model.add(Dense(1, activation='sigmoid'))  # Using sigmoid for binary classification\n",
        "\n",
        "# model.compile(optimizer='adam', loss='binary_crossentropy', metrics=['accuracy'])\n",
        "\n",
        "# # Train the model with data augmentation\n",
        "# batch_size = 32\n",
        "# history = model.fit(datagen.flow(X_train, y_train, batch_size=batch_size),\n",
        "#                     steps_per_epoch=len(X_train) // batch_size,\n",
        "#                     epochs=20,\n",
        "#                     validation_data=(X_test, y_test),\n",
        "#                     shuffle=True)\n",
        "\n",
        "# # Save the model to an HDF5 file\n",
        "# model.save('/content/drive/My Drive/ML-Resources/my_model.h5')\n"
      ],
      "metadata": {
        "id": "yjslMCo2Qai3"
      },
      "execution_count": 7,
      "outputs": []
    },
    {
      "cell_type": "markdown",
      "source": [
        "#### Bawah ini ERRRORR\n"
      ],
      "metadata": {
        "id": "rRNWRbPTQhN9"
      }
    },
    {
      "cell_type": "code",
      "source": [
        "import tensorflow as tf\n",
        "from sklearn.model_selection import train_test_split\n",
        "from sklearn.preprocessing import LabelBinarizer\n",
        "from tensorflow.keras.models import Sequential\n",
        "from tensorflow.keras.layers import Conv2D, MaxPooling2D, Flatten, Dense, Dropout\n",
        "from tensorflow.keras.preprocessing.image import ImageDataGenerator"
      ],
      "metadata": {
        "id": "1I2XnIneG0FN"
      },
      "execution_count": 8,
      "outputs": []
    },
    {
      "cell_type": "code",
      "source": [
        "\n",
        "# Preprocess data\n",
        "data = data.astype('float32') / 255.0  # Normalize pixel values to be between 0 and 1\n",
        "data = data.reshape((data.shape[0], your_image_width, your_image_height, 3))  # Reshape data to match input shape"
      ],
      "metadata": {
        "id": "AVRMH_vjIq6f"
      },
      "execution_count": 9,
      "outputs": []
    },
    {
      "cell_type": "code",
      "source": [
        "# Assuming you are using one-hot encoding\n",
        "label_binarizer = LabelBinarizer()\n",
        "labels_one_hot = label_binarizer.fit_transform(labels)\n",
        "labels_one_hot = tf.keras.utils.to_categorical(labels_one_hot, num_classes=36)  # Assuming 36 classes for binary classification\n",
        "\n",
        "# Convert one-hot encoded labels to a single column of probabilities\n",
        "y_train = labels_one_hot[:, 0]  # Assuming binary classification\n",
        "y_test = labels_one_hot[:, 0]"
      ],
      "metadata": {
        "id": "iOKosMQpIyXy"
      },
      "execution_count": 10,
      "outputs": []
    },
    {
      "cell_type": "code",
      "source": [
        "# Convert labels to binary format (0 or 1)\n",
        "y_train_binary = np.argmax(y_train, axis=1)\n",
        "y_test_binary = np.argmax(y_test, axis=1)\n",
        "\n",
        "# Split the data into training and testing sets\n",
        "X_train, X_test, y_train, y_test = train_test_split(data, y_train_binary, test_size=0.2, random_state=42)"
      ],
      "metadata": {
        "id": "uaet-66oI076"
      },
      "execution_count": 11,
      "outputs": []
    },
    {
      "cell_type": "code",
      "source": [
        "# Data Augmentation\n",
        "datagen = ImageDataGenerator(\n",
        "    rotation_range=20,\n",
        "    width_shift_range=0.2,\n",
        "    height_shift_range=0.2,\n",
        "    shear_range=0.2,\n",
        "    zoom_range=0.2,\n",
        "    horizontal_flip=True,\n",
        "    fill_mode='nearest'\n",
        ")"
      ],
      "metadata": {
        "id": "mLJg0wFqI3Iq"
      },
      "execution_count": 12,
      "outputs": []
    },
    {
      "cell_type": "code",
      "source": [
        "datagen.fit(data)  # Fit the data augmentation pipeline to the reshaped training data"
      ],
      "metadata": {
        "id": "GTep9wC5MJAA"
      },
      "execution_count": 13,
      "outputs": []
    },
    {
      "cell_type": "code",
      "source": [],
      "metadata": {
        "id": "QxiE5fkpNUOC"
      },
      "execution_count": 13,
      "outputs": []
    },
    {
      "cell_type": "code",
      "source": [],
      "metadata": {
        "id": "b1b8uAqbO1Xk"
      },
      "execution_count": 13,
      "outputs": []
    },
    {
      "cell_type": "code",
      "source": [],
      "metadata": {
        "id": "11CKbPlUR46R"
      },
      "execution_count": 13,
      "outputs": []
    },
    {
      "cell_type": "code",
      "source": [],
      "metadata": {
        "id": "Cx0jpIIJR7qq"
      },
      "execution_count": 13,
      "outputs": []
    },
    {
      "cell_type": "code",
      "source": [],
      "metadata": {
        "id": "rTzDytHRSADK"
      },
      "execution_count": 13,
      "outputs": []
    },
    {
      "cell_type": "code",
      "source": [
        "  # Build CNN Model\n",
        "  model = Sequential()\n",
        "\n",
        "  model.add(Conv2D(32, (3, 3), activation='relu', input_shape=(your_image_width, your_image_height, 3)))\n",
        "  model.add(MaxPooling2D(2, 2))\n",
        "\n",
        "  model.add(Conv2D(64, (3, 3), activation='relu'))\n",
        "  model.add(MaxPooling2D(2, 2))\n",
        "\n",
        "  model.add(Conv2D(128, (3, 3), activation='relu'))\n",
        "  model.add(MaxPooling2D(2, 2))\n",
        "\n",
        "  model.add(Flatten())\n",
        "  model.add(Dense(256, activation='relu'))\n",
        "  model.add(Dropout(0.5))\n",
        "  model.add(Dense(1, activation='sigmoid'))  # Using sigmoid for binary classification\n",
        "\n",
        "  model.compile(optimizer='adam', loss='binary_crossentropy', metrics=['accuracy'])\n",
        "\n",
        "  # Train the model with data augmentation\n",
        "  batch_size = 32\n",
        "  history = model.fit(datagen.flow(X_train, y_train, batch_size=batch_size),\n",
        "                      steps_per_epoch=len(X_train) // batch_size,\n",
        "                      epochs=20,\n",
        "                      validation_data=(X_test, y_test),\n",
        "                      shuffle=True)\n",
        "\n",
        "  # Save the model to an HDF5 file\n",
        "  model.save('/content/drive/My Drive/ML-Resources/my_model.h5')"
      ],
      "metadata": {
        "colab": {
          "base_uri": "https://localhost:8080/"
        },
        "id": "PR-opDVYI7Lm",
        "outputId": "bd22742c-473b-4143-ed99-126c11dc5549"
      },
      "execution_count": 14,
      "outputs": [
        {
          "output_type": "stream",
          "name": "stdout",
          "text": [
            "Epoch 1/20\n",
            "25/25 [==============================] - 14s 63ms/step - loss: 0.2299 - accuracy: 0.9512 - val_loss: 0.1259 - val_accuracy: 0.9803\n",
            "Epoch 2/20\n",
            "25/25 [==============================] - 2s 84ms/step - loss: 0.1383 - accuracy: 0.9718 - val_loss: 0.1077 - val_accuracy: 0.9803\n",
            "Epoch 3/20\n",
            "25/25 [==============================] - 1s 57ms/step - loss: 0.1413 - accuracy: 0.9692 - val_loss: 0.1095 - val_accuracy: 0.9803\n",
            "Epoch 4/20\n",
            "25/25 [==============================] - 1s 49ms/step - loss: 0.1455 - accuracy: 0.9705 - val_loss: 0.1051 - val_accuracy: 0.9803\n",
            "Epoch 5/20\n",
            "25/25 [==============================] - 1s 48ms/step - loss: 0.1572 - accuracy: 0.9692 - val_loss: 0.1062 - val_accuracy: 0.9803\n",
            "Epoch 6/20\n",
            "25/25 [==============================] - 1s 48ms/step - loss: 0.1407 - accuracy: 0.9718 - val_loss: 0.1021 - val_accuracy: 0.9803\n",
            "Epoch 7/20\n",
            "25/25 [==============================] - 1s 50ms/step - loss: 0.1316 - accuracy: 0.9730 - val_loss: 0.1234 - val_accuracy: 0.9803\n",
            "Epoch 8/20\n",
            "25/25 [==============================] - 1s 47ms/step - loss: 0.1467 - accuracy: 0.9692 - val_loss: 0.0962 - val_accuracy: 0.9803\n",
            "Epoch 9/20\n",
            "25/25 [==============================] - 1s 49ms/step - loss: 0.1370 - accuracy: 0.9692 - val_loss: 0.0917 - val_accuracy: 0.9803\n",
            "Epoch 10/20\n",
            "25/25 [==============================] - 1s 48ms/step - loss: 0.1343 - accuracy: 0.9718 - val_loss: 0.0920 - val_accuracy: 0.9803\n",
            "Epoch 11/20\n",
            "25/25 [==============================] - 2s 78ms/step - loss: 0.1361 - accuracy: 0.9705 - val_loss: 0.0824 - val_accuracy: 0.9803\n",
            "Epoch 12/20\n",
            "25/25 [==============================] - 2s 91ms/step - loss: 0.1391 - accuracy: 0.9705 - val_loss: 0.0934 - val_accuracy: 0.9803\n",
            "Epoch 13/20\n",
            "25/25 [==============================] - 2s 87ms/step - loss: 0.1368 - accuracy: 0.9705 - val_loss: 0.0926 - val_accuracy: 0.9803\n",
            "Epoch 14/20\n",
            "25/25 [==============================] - 1s 48ms/step - loss: 0.1208 - accuracy: 0.9718 - val_loss: 0.0806 - val_accuracy: 0.9803\n",
            "Epoch 15/20\n",
            "25/25 [==============================] - 1s 52ms/step - loss: 0.1241 - accuracy: 0.9692 - val_loss: 0.0790 - val_accuracy: 0.9803\n",
            "Epoch 16/20\n",
            "25/25 [==============================] - 1s 48ms/step - loss: 0.0939 - accuracy: 0.9730 - val_loss: 0.0748 - val_accuracy: 0.9803\n",
            "Epoch 17/20\n",
            "25/25 [==============================] - 1s 49ms/step - loss: 0.1243 - accuracy: 0.9705 - val_loss: 0.0892 - val_accuracy: 0.9803\n",
            "Epoch 18/20\n",
            "25/25 [==============================] - 1s 49ms/step - loss: 0.1118 - accuracy: 0.9692 - val_loss: 0.0818 - val_accuracy: 0.9803\n",
            "Epoch 19/20\n",
            "25/25 [==============================] - 1s 46ms/step - loss: 0.1216 - accuracy: 0.9692 - val_loss: 0.0751 - val_accuracy: 0.9803\n",
            "Epoch 20/20\n",
            "25/25 [==============================] - 1s 48ms/step - loss: 0.1194 - accuracy: 0.9692 - val_loss: 0.1129 - val_accuracy: 0.9803\n"
          ]
        },
        {
          "output_type": "stream",
          "name": "stderr",
          "text": [
            "/usr/local/lib/python3.10/dist-packages/keras/src/engine/training.py:3079: UserWarning: You are saving your model as an HDF5 file via `model.save()`. This file format is considered legacy. We recommend using instead the native Keras format, e.g. `model.save('my_model.keras')`.\n",
            "  saving_api.save_model(\n"
          ]
        }
      ]
    },
    {
      "cell_type": "code",
      "source": [
        ""
      ],
      "metadata": {
        "id": "ZUmHm929JRaQ"
      },
      "execution_count": 14,
      "outputs": []
    },
    {
      "cell_type": "code",
      "source": [],
      "metadata": {
        "id": "6r-XObULQ7k7"
      },
      "execution_count": 14,
      "outputs": []
    }
  ]
}